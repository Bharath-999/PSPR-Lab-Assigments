{
 "cells": [
  {
   "cell_type": "markdown",
   "metadata": {},
   "source": [
    "Mahalakshmi.S"
   ]
  },
  {
   "cell_type": "markdown",
   "metadata": {},
   "source": [
    "DS205229118"
   ]
  },
  {
   "cell_type": "markdown",
   "metadata": {},
   "source": [
    "1.Write a program that accepts numbers continuously as long as the number is positive and prints the sum of the numbers read (Use while loop). A sample user interaction will be:\n",
    "Enter a number: 2\n",
    "Enter a number: 1\n",
    "Enter a number: 4\n",
    "Enter a number: 6\n",
    "Enter a number: -10\n",
    "Sum = 13 "
   ]
  },
  {
   "cell_type": "code",
   "execution_count": 1,
   "metadata": {},
   "outputs": [
    {
     "name": "stdout",
     "output_type": "stream",
     "text": [
      "enter a number:2\n",
      "sum: 2\n",
      "enter a number:1\n",
      "sum: 3\n",
      "enter a number:4\n",
      "sum: 7\n",
      "enter a number:6\n",
      "sum: 13\n",
      "enter a number:-10\n",
      "sum: 13\n"
     ]
    }
   ],
   "source": [
    "sum=0\n",
    "while True:\n",
    "    num=int(input(\"enter a number:\"))\n",
    "    if num>0:\n",
    "        sum+=num;\n",
    "    print(\"sum:\",sum)\n",
    "    if num<0:\n",
    "        break"
   ]
  },
  {
   "cell_type": "markdown",
   "metadata": {},
   "source": [
    "In this program,i am using while loop to print sum of the numbers.here input() is use to give input numbers in it,in this program if statement also used.To print the sum of the numbers (sum+=sum) read the numbers is positive values given in this program and it print it out the output."
   ]
  },
  {
   "cell_type": "markdown",
   "metadata": {},
   "source": [
    "2.Write a program to take the values of two integers m and n from the user. Calculate the sum of even number between m and n (including both m and n).\n",
    "Please note that value of m must be less than value of n. If m > n. then you must print a message “Value of m should be less than n” and ask for next input values.\n",
    "Print the values of m, n and sum. (Use while loop).\n",
    "The program should continue until user types ‘q’ to quit the program.\n",
    "Sample user interaction:\n",
    "Enter m: 1\n",
    "Enter n: 10\n",
    "Sum of even numbers: 20\n",
    "Do you want to quit (Type q)? :\n",
    "Enter m: 2\n",
    "Enter n: 10\n",
    "Sum of even numbers: 20\n",
    "Do you want to quit (Type q)? :\n",
    "Enter m: 20\n",
    "Enter n: 10\n",
    "Value of m should be less than n\n",
    "Do you want to quit (Type q)? : q "
   ]
  },
  {
   "cell_type": "code",
   "execution_count": 1,
   "metadata": {
    "scrolled": true
   },
   "outputs": [
    {
     "name": "stdout",
     "output_type": "stream",
     "text": [
      "Enter any value for m= 15\n",
      "Enter any value for n= 1\n",
      "Value of m should be less than n\n",
      "Please re-enter a value for n= 30\n",
      "sum of even number: 184\n",
      "\n",
      " Do you want to quit? (type 'q'): q\n"
     ]
    }
   ],
   "source": [
    "while True:\n",
    "    m = int(input(\"Enter any value for m= \"))\n",
    "    n = int(input(\"Enter any value for n= \"))\n",
    "    while m>n:\n",
    "        print(\"Value of m should be less than n\")\n",
    "        n=int(input(\"Please re-enter a value for n= \"))\n",
    "    sum = 0\n",
    "    for i in range (m,n+1):\n",
    "        if i%2 ==0:\n",
    "            sum = sum + i\n",
    "    print(\"sum of even number:\",sum)\n",
    "    reply=str(input(\"\\n Do you want to quit? (type 'q'): \"))\n",
    "    if reply =='q':\n",
    "        break;"
   ]
  },
  {
   "cell_type": "markdown",
   "metadata": {},
   "source": [
    "In this program,i enter two numbers m and n, then using if statement is used to enter new values for n which greater than m.then for loop with a range of m and n,to calculate even numbers in between m and n and prints the sum of even numbers and to quit the program using quit(q)."
   ]
  },
  {
   "cell_type": "markdown",
   "metadata": {},
   "source": [
    "3.Write a program to accept n and display its multiplication table. Value of n must be provided by the user. (Example: n * 1, n * 2,....,n*10) (Use for loop)"
   ]
  },
  {
   "cell_type": "code",
   "execution_count": 1,
   "metadata": {},
   "outputs": [
    {
     "name": "stdout",
     "output_type": "stream",
     "text": [
      "display the multiplication table of?:3\n",
      "3 X 1 = 3\n",
      "3 X 2 = 6\n",
      "3 X 3 = 9\n",
      "3 X 4 = 12\n",
      "3 X 5 = 15\n",
      "3 X 6 = 18\n",
      "3 X 7 = 21\n",
      "3 X 8 = 24\n",
      "3 X 9 = 27\n",
      "3 X 10 = 30\n"
     ]
    }
   ],
   "source": [
    "num=int(input(\"display the multiplication of table?:\"))\n",
    "for i in range(1,11):\n",
    "    print(num,\"X\",i,\"=\",num*i)"
   ]
  },
  {
   "cell_type": "markdown",
   "metadata": {},
   "source": [
    "In this program, i given input() as num to display the multiplication of table.Here using for loop statement,to print given number in the maltiplication of table format in this program."
   ]
  },
  {
   "cell_type": "markdown",
   "metadata": {},
   "source": [
    "4.Write a program that receives an integer and prints the sum of its digits. For example,\n",
    "an input 125 will print output 1+2+5=8.\n",
    "Try out with the following test cases\n",
    "125\n",
    "12\n",
    "2\n",
    "-15"
   ]
  },
  {
   "cell_type": "code",
   "execution_count": 1,
   "metadata": {},
   "outputs": [
    {
     "name": "stdout",
     "output_type": "stream",
     "text": [
      "Enter a integer: 125\n",
      "Sum of the integer is: 8\n"
     ]
    }
   ],
   "source": [
    "num = int(input(\"Enter a integer: \"))\n",
    "total = 0\n",
    "while num > 0:\n",
    "    digit = num % 10\n",
    "    total = total + digit\n",
    "    num = num // 10\n",
    "print(\"Sum of the integer is:\", total)"
   ]
  },
  {
   "cell_type": "markdown",
   "metadata": {},
   "source": [
    "In this program,i given num as a input() to enter a integer.Here while loop is using to given a condition num>0, and to find out the sum of the integer calculate the total,then print the sum of the integer to given input."
   ]
  },
  {
   "cell_type": "markdown",
   "metadata": {},
   "source": [
    "5.Develop an application in Python that repeatedly reads numbers until the user enters\n",
    "done. Once done is entered, print out the total, count, and average of the numbers. If the user\n",
    "enters anything other than a number, detect their mistake using try and except and print an error\n",
    "message and skip to the next number. "
   ]
  },
  {
   "cell_type": "code",
   "execution_count": 4,
   "metadata": {},
   "outputs": [
    {
     "name": "stdout",
     "output_type": "stream",
     "text": [
      "Enter a number: 2\n",
      "Enter a number: 3\n",
      "Enter a number: r\n",
      "Invalid number\n",
      "Enter a number: done\n",
      "\n",
      "done\n",
      "\n",
      "Total: 7\n",
      "\n",
      "Num: 4\n",
      "\n",
      "Average: 1.75\n"
     ]
    }
   ],
   "source": [
    "num = 0\n",
    "total = 0\n",
    "while True:\n",
    "    number = input(\"Enter a number: \")\n",
    "    if number == 'done':\n",
    "        break\n",
    "    try :\n",
    "        num = int(number)\n",
    "    except:\n",
    "        print('Invalid number')\n",
    "        continue\n",
    "    num = num+1\n",
    "    total = total + num\n",
    "    avg = total/num\n",
    "print ('\\ndone')\n",
    "print ('\\nTotal:',total)\n",
    "print('\\nNum:',num)\n",
    "print('\\nAverage:',avg)"
   ]
  },
  {
   "cell_type": "markdown",
   "metadata": {},
   "source": [
    "In this program,i given num,total is value 0.Here i am using while loop and if statement.then number as input() and here it check whether the user entered any number or other than 'done' then it print what in except block which is 'invalid number'.then i am printing total,num, average. "
   ]
  }
 ],
 "metadata": {
  "kernelspec": {
   "display_name": "Python 3",
   "language": "python",
   "name": "python3"
  },
  "language_info": {
   "codemirror_mode": {
    "name": "ipython",
    "version": 3
   },
   "file_extension": ".py",
   "mimetype": "text/x-python",
   "name": "python",
   "nbconvert_exporter": "python",
   "pygments_lexer": "ipython3",
   "version": "3.8.5"
  }
 },
 "nbformat": 4,
 "nbformat_minor": 4
}
