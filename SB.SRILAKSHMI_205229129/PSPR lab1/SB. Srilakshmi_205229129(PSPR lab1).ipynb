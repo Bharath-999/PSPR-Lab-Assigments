{
 "cells": [
  {
   "cell_type": "markdown",
   "metadata": {},
   "source": [
    "#### Srilakshmi SB\n",
    "#### DS205229129"
   ]
  },
  {
   "cell_type": "markdown",
   "metadata": {},
   "source": [
    "##### Question1.\n",
    "Write a program in Python to input length and breadth of a rectangle and print the\n",
    "area and perimeter of it.\n",
    " Test you code with atleast 2 test cases"
   ]
  },
  {
   "cell_type": "code",
   "execution_count": 1,
   "metadata": {},
   "outputs": [
    {
     "name": "stdout",
     "output_type": "stream",
     "text": [
      "Length of the rectangle \n",
      "2\n",
      "Width of the rectangle \n",
      "4\n",
      "Area of Rectangle is 8\n",
      "Perimeter of Rectangle is 12\n"
     ]
    }
   ],
   "source": [
    "l=int(input(\"Length of the rectangle \\n\"))\n",
    "w=int(input(\"Width of the rectangle \\n\"))\n",
    "area=l*w\n",
    "perimeter=2*(l+w)\n",
    "print('Area of Rectangle is',area)\n",
    "print('Perimeter of Rectangle is',perimeter)"
   ]
  },
  {
   "cell_type": "markdown",
   "metadata": {},
   "source": [
    "##### First we ask the user to enter both length and width of the reactangle for which they want to find its area and perimeter. then using multiply operator we find the product of length and width that gives us then area and then using multiplication and addition operator we find the perimeter of the rectangle. Finally using print statement we print the area and perimeter.\n"
   ]
  },
  {
   "cell_type": "markdown",
   "metadata": {},
   "source": [
    "\n",
    "##### Question2.\n",
    "Write a program, which accepts annual basic salary of an employee and calculates\n",
    "and displays the Income tax as per the following rules.\n",
    " If Basic is less than Rs. 1,50,000/-, then Tax = 0.\n",
    " If Basic is from Rs.1,50,000/- to Rs. 3,00,000/-, then tax is 20%.\n",
    " If Basic is greater than Rs.3,00,000/-, then tax is 30%.\n",
    " Print name, annual income and tax.\n",
    " Write test cases to validate all conditions"
   ]
  },
  {
   "cell_type": "code",
   "execution_count": 2,
   "metadata": {},
   "outputs": [
    {
     "name": "stdout",
     "output_type": "stream",
     "text": [
      "Enter the name of Employee \n",
      "sri\n",
      "Enter the salary of Employee \n",
      "330000\n",
      "Annual income of sri is 330000.0\n",
      "The tax amount is 99000.0\n"
     ]
    }
   ],
   "source": [
    "ename=input(\"Enter the name of Employee \\n\")\n",
    "salary=float(input(\"Enter the salary of Employee \\n\"))\n",
    "\n",
    "if(salary<150000):\n",
    "    tax=0\n",
    "    print(\"Annual income of \" +ename+ \" is\",salary)\n",
    "    print(\"No taxalbe Amount\")\n",
    "    \n",
    "elif(salary<300000):\n",
    "    tax=0.2*salary\n",
    "    print(\"Annual income of \" +ename+ \" is\",salary)\n",
    "    print(\"The tax amount is\" ,tax)\n",
    "    \n",
    "elif(salary>300000):\n",
    "    tax=0.3*salary\n",
    "    print(\"Annual income of \" +ename+ \" is\",salary)\n",
    "    print(\"The tax amount is\" ,tax)\n"
   ]
  },
  {
   "cell_type": "markdown",
   "metadata": {},
   "source": [
    "#### Using input command we ask the user to enter employee name and salary and then using if and elif statement for the given conditons we then calculate the taxable amount for the annual salary of the employee and print the tax amount for the salary entered."
   ]
  },
  {
   "cell_type": "markdown",
   "metadata": {},
   "source": [
    "\n",
    "##### Question3.\n",
    "Write a program to accept quantity and rate for three (3) items. Compute the total\n",
    "sales amount. Also compute and print the discount as follows:\n",
    " Amount > Rs. 2000/- : 20% discount\n",
    " Amount between Rs. 1500/- to Rs.1999/- :15% discount\n",
    " Amount between Rs. 1000/- to Rs.1499/- 8 % discount\n",
    " Compute final amount to be paid.\n",
    " Print name, rate and quantity of 3 items. Then print total sales amount, total discount\n",
    "and final amount to be paid to shop.\n",
    " Write 3 test cases to validate all conditions"
   ]
  },
  {
   "cell_type": "code",
   "execution_count": 3,
   "metadata": {},
   "outputs": [
    {
     "name": "stdout",
     "output_type": "stream",
     "text": [
      "GROCERY SHOP  \n",
      "enter the item1: Atta\n",
      "enter the quantity1: 2\n",
      "enter the rate1: 200\n",
      "enter the item2: Fruitloops\n",
      "enter the quantity2: 30\n",
      "enter the rate2: 50\n",
      "enter the item3: Rice flour\n",
      "enter the quantity3: 2\n",
      "enter the rate3: 100\n",
      "DISCOUNT 20%....!!\n",
      "\n",
      "\n",
      "total amount:  2100\n",
      "\n",
      "total discount:  420.0\n",
      "\n",
      "final price to be paid by customer:  1680.0\n"
     ]
    }
   ],
   "source": [
    "print(\"GROCERY SHOP  \")\n",
    "name_item1=str(input(\"enter the item1: \"))\n",
    "quantity_1=int(input(\"enter the quantity1: \"))\n",
    "rate_1=int(input(\"enter the rate1: \"))\n",
    "\n",
    "name_item2=str(input(\"enter the item2: \"))\n",
    "quantity_2=int(input(\"enter the quantity2: \"))\n",
    "rate_2=int(input(\"enter the rate2: \"))\n",
    "\n",
    "name_item3=str(input(\"enter the item3: \"))\n",
    "quantity_3=int(input(\"enter the quantity3: \"))\n",
    "rate_3=int(input(\"enter the rate3: \"))\n",
    "\n",
    "amount=(quantity_1*rate_1)+(quantity_2*rate_2)+(quantity_3*rate_3)\n",
    "price=amount\n",
    "if amount > 2000:\n",
    "    print(\"DISCOUNT 20%....!!\\n\")\n",
    "    discount=amount/5\n",
    "    price -= discount\n",
    "elif amount > 1500 and amount < 1999:\n",
    "    print(\"DISCOUNT 15%....!!\\n\")\n",
    "    discount = (amount*3)/20\n",
    "    price -= discount\n",
    "elif amount > 1000 and amount < 1499:\n",
    "    print(\"DISCOUNT 8%....!!\\n\")\n",
    "    discount = (amount*8)/20\n",
    "    price -= discount\n",
    "print(\"\\ntotal amount: \",amount)\n",
    "print(\"\\ntotal discount: \",discount)\n",
    "print(\"\\nfinal price to be paid by customer: \",price)"
   ]
  },
  {
   "cell_type": "markdown",
   "metadata": {},
   "source": [
    "##### We enter and print the name of the product, quantity of the product and price of one piece simultanenously then we use simple arithmetic functions to find the total amount of the products entered after that we have made three if statements for all the three cases specified in the question and find the discounted amount of the total amount based one the category of discount it falls on using multiply and divide operator and then print total amount, total discount and also final price to be paid by the customer after deducting the discounted amount from the total amount.\n"
   ]
  },
  {
   "cell_type": "markdown",
   "metadata": {},
   "source": [
    "\n",
    "##### Question4. \n",
    "Evaluate the expressions using Pen and Paper first and then print the value.\n",
    " X1=(11+31+23+8+7+5)/((1-(1/2)-(1/20)))\n",
    " X2=(((10*8)+8-((7//5)%(5**4)))&3)|(2<<1)"
   ]
  },
  {
   "cell_type": "code",
   "execution_count": 4,
   "metadata": {},
   "outputs": [
    {
     "name": "stdout",
     "output_type": "stream",
     "text": [
      "188.88888888888889\n",
      "7\n"
     ]
    }
   ],
   "source": [
    "x1=(11+31+23+8+7+5)/((1-(1/2)-(1/20)))\n",
    "print(x1)\n",
    "x2=(((10*8)+8-((7//5)%(5**4)))&3)|(2<<1)\n",
    "print(x2)"
   ]
  },
  {
   "cell_type": "markdown",
   "metadata": {},
   "source": [
    "#### This is a pretty straight forward piece of code, after carefully entering all the arithmetic operations needed to solve that equation we print the answers separately with print statement."
   ]
  },
  {
   "cell_type": "markdown",
   "metadata": {},
   "source": [
    "\n",
    "##### Question5: \n",
    "Write a program to accept name, marks for three subjects and find the total marks\n",
    "secured, average and also display the class obtained.\n",
    " Class I – above 80%\n",
    " Class II – 60% to 80%\n",
    " Pass class – 40% to 59% and\n",
    " Fail otherwise\n",
    " Print a message as “Congratulations << your name>>, you secured a total of <<total marks>>,\n",
    " and Your class is <<class>>”\n",
    " Test you code with atleast 2 test cases "
   ]
  },
  {
   "cell_type": "code",
   "execution_count": 2,
   "metadata": {},
   "outputs": [
    {
     "name": "stdout",
     "output_type": "stream",
     "text": [
      "Enter your name: srilakshmi\n",
      "Please enter Subject 1: 90\n",
      "Please enter Subject 2: 98\n",
      "Please enter Subject 3: 97\n",
      "\n",
      "Congratulation! srilakshmi you secured a total of 285 and your class is: 1st Class\n"
     ]
    }
   ],
   "source": [
    "name = str(input(\"Enter your name: \"))\n",
    "subject_1 = float(input(\"Please enter Subject 1: \"))\n",
    "subject_2 = float(input(\"Please enter Subject 2: \"))\n",
    "subject_3 = float(input(\"Please enter Subject 3: \"))\n",
    "\n",
    "total = int(subject_1+subject_2+subject_3)\n",
    "average = total / 3\n",
    "percentage = (total / 300) * 100\n",
    "\n",
    "if(percentage>=80):\n",
    "    print(\"\\nCongratulation!\", name, \"you secured a total of\", total, \"and your class is: 1st Class\")\n",
    "elif(percentage>=60 and percentage<=80):\n",
    "    print(\"\\nCongratulation!\", name, \"you secured a total of\", total, \"and your class is: 2nd Class\")\n",
    "elif(percentage>=40 and percentage<=59):\n",
    "    print(\"\\nCongratulation!\", name, \"you secured a total of\", total, \"and your class is: Pass Class\")\n",
    "else:\n",
    "    print(\"you are fail\")"
   ]
  },
  {
   "cell_type": "markdown",
   "metadata": {},
   "source": [
    "#### Here we are using the same if and elif statement. First i am getting input from the user and also for 3 subject marks using input()function then i add all the subject marks to a variable called total then for finding average i divide the total no.of subject by the total. then i am creating a variable called percentage that holds total / the maximum marks of all subject then product by 100. In 1st case if(percentage>=80) it print congratulation then my name and the total and type of class.\n",
    "#### In 2nd case if(percentage>=60 and percentage<=80) it print congratulation then my name and the total and type of class.\n",
    "#### In 3rd case if(percentage>=40 and percentage<=59) it print congratulation then my name and the total and type of class."
   ]
  },
  {
   "cell_type": "markdown",
   "metadata": {},
   "source": [
    "\n",
    "##### Question6:\n",
    "Read a number from keyboard. Print whether it is odd number, even number,\n",
    "positive number, negative number or zero. Also, print if its ASCII value represents a lower case\n",
    "or upper case letter or digit.\n",
    "Write 8 test cases to validate odd, even, positive, negative, zero, lower case, upper case and digit\n",
    "input types "
   ]
  },
  {
   "cell_type": "code",
   "execution_count": 1,
   "metadata": {},
   "outputs": [
    {
     "name": "stdout",
     "output_type": "stream",
     "text": [
      "Enter the number to check ODD or EVEN:  \n",
      "5\n",
      "number is POSITIVE \n",
      "\n",
      "number is odd   \n",
      "\n",
      "ASCII values   \n",
      "\n",
      "the value \u0005\n",
      "Enter ASCII values \n",
      "6\n",
      "54\n",
      "Enter a single number or a letter \n",
      "B\n",
      "IT IS AN UPPERCASE LETTERS\n"
     ]
    }
   ],
   "source": [
    "n=int(input(\"Enter the number to check ODD or EVEN:  \\n\"))\n",
    "if n>0:\n",
    "    print(\"number is POSITIVE \\n\")\n",
    "    if n%2==0:\n",
    "        print(\"number is even  \\n\")\n",
    "    else:\n",
    "        print(\"number is odd   \\n\")     \n",
    "elif n<0:\n",
    "    print(\"number is NEGETIVE   \\n\")\n",
    "    if n%2==0:\n",
    "        print(\"number is even   \\n\")\n",
    "    else:\n",
    "        print(\"number is odd     \\n\")\n",
    "else:\n",
    "    print(\"number is ZERO   \\n\")\n",
    "    \n",
    "    \n",
    "print(\"ASCII values   \\n\")\n",
    "if n>=65 and n<=91:\n",
    "    print(\"represents UPPERCASE LETTER   \\n\")\n",
    "elif n>=97 and n<=122:\n",
    "    print(\"represents LOWERCASE LETTER   \\n\")\n",
    "elif n>=48 and n<=57:\n",
    "    print(\"represents DIGIT   \\n\")\n",
    "    \n",
    "val=chr(n)\n",
    "print(\"the value\" ,val)\n",
    "char=str(input(\"Enter ASCII values \\n\"))\n",
    "print(ord(char))\n",
    "n=100\n",
    "chr(n)\n",
    "\n",
    "char=str(input(\"Enter a single number or a letter \\n\"))\n",
    "if(ord(char)>=65 and ord(char)<=90):\n",
    "    print(\"IT IS AN UPPERCASE LETTERS\")\n",
    "elif(ord(char)>=97 and ord(char)<=122):\n",
    "    print(\"IT IS AN LOWERCASE LETTERS\")\n",
    "else:\n",
    "    (ord(char)>=48 and ord(char)<=57)\n",
    "    print(\"IT IS A DIGIT\")"
   ]
  },
  {
   "cell_type": "markdown",
   "metadata": {},
   "source": [
    "##### I am getting number from the user using input() function and storing that to a variable called 'n'. then i am giving certain condition in if and elif statement if the n>0 the it print number is positive then n%2==0 it print number is even else it print number is odd then same for other elif where it print for negetive then finally both the case fail it print zero. Then we print ASCII values using the same if and elif statement. 1st case if n>=65 and n<=91 then it print uppercase letter elif 2nd case n>=97 and n<=122 then it print lowercase letter elif 3rd case n>=48 and n<=57 then it print digit then finally print the value.Next we have 3 case. I get input() from the user and store that value in 'char'. in 1st case if char >= 65 and char <= 90 then it print its an uppercase letters. 2d case elif char >=97 and char <= 122 print its an lowercase letters. else the char >= 48 and char <= 57 print its a digit. Then in this 3 case. I get input() from the user and store that value in 'char'. in 1st case if char >= 65 and char <= 90 then it print its an uppercase letters. 2d case elif char >=97 and char <= 122 print its an lowercase letters. else the char >= 48 and char <= 57 print its a digit."
   ]
  }
 ],
 "metadata": {
  "kernelspec": {
   "display_name": "Python 3",
   "language": "python",
   "name": "python3"
  },
  "language_info": {
   "codemirror_mode": {
    "name": "ipython",
    "version": 3
   },
   "file_extension": ".py",
   "mimetype": "text/x-python",
   "name": "python",
   "nbconvert_exporter": "python",
   "pygments_lexer": "ipython3",
   "version": "3.8.3"
  }
 },
 "nbformat": 4,
 "nbformat_minor": 4
}
