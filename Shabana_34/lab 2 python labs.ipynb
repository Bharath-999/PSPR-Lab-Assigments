{
 "cells": [
  {
   "cell_type": "markdown",
   "metadata": {},
   "source": [
    "#### Shabana S\n",
    "#### DS205229134"
   ]
  },
  {
   "cell_type": "markdown",
   "metadata": {},
   "source": [
    "Here we ask the user to input integer and then using while with the condition when the number entered is positive it keeps on gets added to the other positive numbers and when any negative numbers is entered the loop ends."
   ]
  },
  {
   "cell_type": "code",
   "execution_count": 17,
   "metadata": {
    "scrolled": true
   },
   "outputs": [
    {
     "name": "stdout",
     "output_type": "stream",
     "text": [
      "Enter any integer 18\n",
      "Enter next integer 6\n",
      "Enter next integer 22\n",
      "Enter next integer 19\n",
      "Enter next integer -6\n",
      "\n",
      "The sum of all numbers entered is 65\n"
     ]
    }
   ],
   "source": [
    "total = 0\n",
    "i = int(input(\"Enter any integer \"))\n",
    "while i > 0:\n",
    "    total = total + i\n",
    "    i = int(input(\"Enter next integer \"))\n",
    "print(\"\\nThe sum of all numbers entered is\", total)"
   ]
  },
  {
   "cell_type": "markdown",
   "metadata": {},
   "source": [
    "We ask the user to enter two numbers m and n then using if statement we ask the user to re-enter a new value for n which is greater than m. then using for statement with range and then and if statement with a condition to find and add all the even numbers in between m and n and then ask the user if he wants to do the same with other numbers or just quit."
   ]
  },
  {
   "cell_type": "code",
   "execution_count": 16,
   "metadata": {},
   "outputs": [
    {
     "name": "stdout",
     "output_type": "stream",
     "text": [
      "Enter any value for m= 10\n",
      "Enter any value for n= 1\n",
      "Value of m should be less then n\n",
      "Please re-enter a value for n= 20\n",
      "90\n",
      "\n",
      " Do you want to quit? (type 'q'): q\n"
     ]
    }
   ],
   "source": [
    "while True:\n",
    "    m = int(input(\"Enter any value for m= \"))\n",
    "    n = int(input(\"Enter any value for n= \"))\n",
    "    while m>n:\n",
    "        print(\"Value of m should be less then n\")\n",
    "        n=int(input(\"Please re-enter a value for n= \"))\n",
    "    sum = 0\n",
    "    for i in range (m,n+1):\n",
    "        if i%2 ==0:\n",
    "            sum = sum + i\n",
    "    print(sum)\n",
    "    reply=str(input(\"\\n Do you want to quit? (type 'q'): \"))\n",
    "    if reply =='q':\n",
    "         break;\n"
   ]
  },
  {
   "cell_type": "markdown",
   "metadata": {},
   "source": [
    "We ask the user to enter the number for which they want to find the multiplication for, and then using for loop with a range of 1 to 11 which is followed by a simple combination of print statement with arithmetic operators we get the multiplocation table for the enterd number."
   ]
  },
  {
   "cell_type": "code",
   "execution_count": 15,
   "metadata": {},
   "outputs": [
    {
     "name": "stdout",
     "output_type": "stream",
     "text": [
      "Enter the number: 11\n",
      "Multiplication Table of 11\n",
      "11 X 1 = 11\n",
      "11 X 2 = 22\n",
      "11 X 3 = 33\n",
      "11 X 4 = 44\n",
      "11 X 5 = 55\n",
      "11 X 6 = 66\n",
      "11 X 7 = 77\n",
      "11 X 8 = 88\n",
      "11 X 9 = 99\n",
      "11 X 10 = 110\n"
     ]
    }
   ],
   "source": [
    "num = int(input(\"Enter the number: \"))\n",
    "print(\"Multiplication Table of\", num)\n",
    "for i in range(1, 11):\n",
    "    print(num,\"X\",i,\"=\",num * i)"
   ]
  },
  {
   "cell_type": "markdown",
   "metadata": {},
   "source": [
    "Again we ask the user to enter an integer using input and then using while loop with a condition where the number entered is greater then zero we use the modulus operator to select the digits of the number and add them and then we use ?? for divion without remainder the remove the previously added number and then finally using print statement we print the sum of the integer number that was entered"
   ]
  },
  {
   "cell_type": "code",
   "execution_count": 1,
   "metadata": {},
   "outputs": [
    {
     "name": "stdout",
     "output_type": "stream",
     "text": [
      "Enter a integer: 125\n",
      "Sum of the integer is: 8\n"
     ]
    }
   ],
   "source": [
    "num = int(input(\"Enter a integer: \"))\n",
    "total = 0\n",
    "while num > 0:\n",
    "    digit = num % 10\n",
    "    total = total + digit\n",
    "    num = num // 10\n",
    "print(\"Sum of the integer is:\", total)"
   ]
  },
  {
   "cell_type": "markdown",
   "metadata": {},
   "source": [
    "Here i get the input from the user if the user enter other than 'done' and numbers then it should print Invalid input. so i have given these condition in while True here it check whether the user entered any number or other than 'done' then it print what in except block which is 'invailed input'. then i am printing num, average, total where i have assigned previously (num=num+1, tot=tot+num, and then for avg=tot/num)."
   ]
  },
  {
   "cell_type": "code",
   "execution_count": 20,
   "metadata": {},
   "outputs": [
    {
     "name": "stdout",
     "output_type": "stream",
     "text": [
      "Enter a number: 1\n",
      "Enter a number: 2\n",
      "Enter a number: 3\n",
      "Enter a number: 4\n",
      "Enter a number: 5\n",
      "Enter a number: d\n",
      "Invailed Input\n",
      "Enter a number: done\n",
      "\n",
      "done\n",
      "Total: 20\n",
      "Num: 6\n",
      "Average: 3.3333333333333335\n"
     ]
    }
   ],
   "source": [
    "num = 0\n",
    "tot = 0\n",
    "while True:\n",
    "    number = input(\"Enter a number: \")\n",
    "    if number == 'done':\n",
    "        break\n",
    "    try :\n",
    "        num = int(number)\n",
    "    except:\n",
    "        print('Invailed Input')\n",
    "        continue\n",
    "    num = num+1\n",
    "    tot = tot + num\n",
    "    avg = tot/num\n",
    "print ('\\ndone')\n",
    "print ('Total:',tot)\n",
    "print('Num:',num)\n",
    "print('Average:',avg)"
   ]
  },
  {
   "cell_type": "code",
   "execution_count": null,
   "metadata": {},
   "outputs": [],
   "source": []
  }
 ],
 "metadata": {
  "kernelspec": {
   "display_name": "Python 3",
   "language": "python",
   "name": "python3"
  },
  "language_info": {
   "codemirror_mode": {
    "name": "ipython",
    "version": 3
   },
   "file_extension": ".py",
   "mimetype": "text/x-python",
   "name": "python",
   "nbconvert_exporter": "python",
   "pygments_lexer": "ipython3",
   "version": "3.8.5"
  }
 },
 "nbformat": 4,
 "nbformat_minor": 4
}
