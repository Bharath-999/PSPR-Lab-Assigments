{
 "cells": [
  {
   "cell_type": "markdown",
   "metadata": {},
   "source": [
    "#### Shabana S\n",
    "#### DS205229134"
   ]
  },
  {
   "cell_type": "markdown",
   "metadata": {},
   "source": [
    "Question 1:\n",
    "    Write a function find_average(student) that takes student tuples as input and print student rollno, name, marks and average marks as output.\n",
    "\n",
    "Test Cases:\n",
    "    1.Stud1=(1,\"rex\",60,85,70)\n",
    "      find_average(stud1)\n",
    "      \n",
    "Modify the above function find_average(student) so that it processes a tuple of tuples.\n",
    "\n",
    "    2.Stud2=(2,\"rex\",(80,75,90))\n",
    "      find_average(stud2)"
   ]
  },
  {
   "cell_type": "code",
   "execution_count": 3,
   "metadata": {},
   "outputs": [],
   "source": [
    "def find_average(student):\n",
    "    roll,name,marks = student\n",
    "    total = 0\n",
    "    for mark in marks:\n",
    "        total += mark\n",
    "    avg = total / len(marks)\n",
    "    print(\"Roll No:\",roll,\"Name:\",name,\"Average:\",avg)"
   ]
  },
  {
   "cell_type": "code",
   "execution_count": 4,
   "metadata": {},
   "outputs": [],
   "source": [
    "stud1 = (1,\"rex\",(60,85,70))"
   ]
  },
  {
   "cell_type": "code",
   "execution_count": 5,
   "metadata": {},
   "outputs": [
    {
     "name": "stdout",
     "output_type": "stream",
     "text": [
      "Roll No: 1 Name: rex Average: 71.66666666666667\n"
     ]
    }
   ],
   "source": [
    "find_average(stud1)"
   ]
  },
  {
   "cell_type": "code",
   "execution_count": 6,
   "metadata": {},
   "outputs": [],
   "source": [
    "stud2 = (2,\"Rex\",(80,75,90))"
   ]
  },
  {
   "cell_type": "code",
   "execution_count": 7,
   "metadata": {},
   "outputs": [
    {
     "name": "stdout",
     "output_type": "stream",
     "text": [
      "Roll No: 2 Name: Rex Average: 81.66666666666667\n"
     ]
    }
   ],
   "source": [
    "find_average(stud2)"
   ]
  },
  {
   "cell_type": "markdown",
   "metadata": {},
   "source": [
    "Question 2:\n",
    "    Write a weight management program that prompts that prompts the user to enter in 7 days of their body weight values as float numbers. Store them in list.\n",
    "\n",
    "Then print first day weight, last day weight, 4th day weight, highest weight, lowest weight and average weight.\n",
    "\n",
    "Finally, print if average weight < lowest weight, then print \"Your weight management is excellent\". Otherwise print \"Your weight management is not good. Please take care of your diet\"."
   ]
  },
  {
   "cell_type": "code",
   "execution_count": 5,
   "metadata": {},
   "outputs": [
    {
     "name": "stdout",
     "output_type": "stream",
     "text": [
      "Enter your weight:70\n",
      "Enter your weight:71\n",
      "Enter your weight:72\n",
      "Enter your weight:73\n",
      "Enter your weight:74\n",
      "Enter your weight:75\n",
      "Enter your weight:76\n",
      "\n",
      "\n",
      "First day weight 70.0\n",
      "\n",
      "Last day weight 76.0\n",
      "\n",
      "Highest weight is 76.0\n",
      "\n",
      "Lowest weight is 70.0\n",
      "\n",
      "Average of weight is 73\n",
      "\n",
      "Your weight management is not good. Please take care of your diet\n"
     ]
    }
   ],
   "source": [
    "list=[]\n",
    "for i in range(7):\n",
    "    c=float(input(\"Enter your weight:\"))\n",
    "    list.append(c)\n",
    "print(\"\\n\\nFirst day weight\",list[0])\n",
    "print(\"\\nLast day weight\",list[-1])\n",
    "print(\"\\nHighest weight is\",max(list))\n",
    "print(\"\\nLowest weight is\",min(list))\n",
    "print(\"\\nAverage of weight is\",round(sum(list)/len(list)))\n",
    "Firstday=list[0]\n",
    "Lastday=list[-1]\n",
    "avg=round(sum(list)/len(list))\n",
    "low_weight=min(list)\n",
    "if(avg<low_weight):\n",
    "    print(\"\\nYour weight management is excellent\")\n",
    "else:\n",
    "    print(\"\\nYour weight management is not good. Please take care of your diet\")"
   ]
  },
  {
   "cell_type": "code",
   "execution_count": null,
   "metadata": {},
   "outputs": [],
   "source": [
    "question 3:\n",
    "    Write a function LASTN(LST,N) takes a list of integer and n and returns n largest number in the given list."
   ]
  },
  {
   "cell_type": "code",
   "execution_count": 1,
   "metadata": {},
   "outputs": [
    {
     "name": "stdout",
     "output_type": "stream",
     "text": [
      "how many number want to enter ?: 6\n",
      "enter the numbers \n",
      "12\n",
      "32\n",
      "10\n",
      "9\n",
      "52\n",
      "45\n",
      "[12, 32, 10, 9, 52, 45]\n",
      "how many largest numbers you want to find ?: 3\n",
      "largest number are:\n",
      "[52, 45, 32]\n"
     ]
    }
   ],
   "source": [
    "def lastN(no_lst,fi):\n",
    "    final_lst=[]\n",
    "    for i in range(fi):\n",
    "        maxn = 0\n",
    "        for j in no_lst:\n",
    "            if j > maxn:\n",
    "                maxn=j\n",
    "        no_lst.remove(maxn)\n",
    "        final_lst.append(maxn)\n",
    "    print(\"largest number are:\")    \n",
    "    print(final_lst)   \n",
    "    \n",
    "    \n",
    "n=int(input(\"how many number want to enter ?: \"))\n",
    "print(\"enter the numbers \")      \n",
    "no_lst=[]      \n",
    "for i in range(n):\n",
    "    ele=int(input())\n",
    "    no_lst.append(ele)\n",
    "print(no_lst)     \n",
    "fi=int(input(\"how many largest numbers you want to find ?: \"))\n",
    "lastN(no_lst,fi)"
   ]
  },
  {
   "cell_type": "code",
   "execution_count": null,
   "metadata": {},
   "outputs": [],
   "source": [
    "question 4:\n",
    "    write a prgm to sort the list with the strings,except group all the stringsthat begins with \"x\" first."
   ]
  },
  {
   "cell_type": "code",
   "execution_count": 2,
   "metadata": {},
   "outputs": [
    {
     "name": "stdout",
     "output_type": "stream",
     "text": [
      "enter the words \n",
      "jki\n",
      "xdr\n",
      "xdn\n",
      "huy\n",
      "loi\n",
      "['jki', 'xdr', 'xdn', 'huy', 'loi']\n",
      "the sorted list is \n",
      "['xdn', 'xdr', 'huy', 'jki', 'loi']\n"
     ]
    }
   ],
   "source": [
    "print(\"enter the words \")\n",
    "lis_sort=[]\n",
    "new_xsort=[]\n",
    "new_asort=[]\n",
    "newly_sort=[]\n",
    "for i in range(5):\n",
    "    word=str(input())\n",
    "    lis_sort.append(word)\n",
    "print(lis_sort)    \n",
    "for i in lis_sort:\n",
    "    if i.startswith(\"x\"):\n",
    "        new_xsort.append(i)\n",
    "    else:\n",
    "        new_asort.append(i)\n",
    "new_xsort.sort()    \n",
    "new_asort.sort() \n",
    "newly_sort=new_xsort+new_asort\n",
    "print(\"the sorted list is \")\n",
    "print(newly_sort)"
   ]
  },
  {
   "cell_type": "code",
   "execution_count": null,
   "metadata": {},
   "outputs": [],
   "source": [
    "question 5:\n",
    "Develop a function sort_last(). given a list of non-empty tuples, return a list sorted in\n",
    "increasing order by the last element in each tuple. hint: use a custom key=funtion to\n",
    "extract the last element form each tuple.    "
   ]
  },
  {
   "cell_type": "code",
   "execution_count": 3,
   "metadata": {},
   "outputs": [
    {
     "name": "stdout",
     "output_type": "stream",
     "text": [
      "[(5, 0), (6, 4), (9, 7, 5), (2, 7), (1, 8)]\n"
     ]
    }
   ],
   "source": [
    "def sort_last(newx): \n",
    "    newx=sorted(newx,key=lambda last:last[-1])\n",
    "    print(newx)\n",
    "\n",
    "newx=[(1,8),(9,7,5),(6,4),(2,7),(5,0)]\n",
    "sort_last(newx)"
   ]
  },
  {
   "cell_type": "code",
   "execution_count": null,
   "metadata": {},
   "outputs": [],
   "source": [
    "question 6: Take a list of tuple sort in following sorted order \n",
    "define a function FIRST() that receives a tuple and returns its first element\n",
    "define a function SORT_FIRST() that receives a list of tuple and returns sorted order\n",
    "define a function MIDDLE() that recives its middle element\n",
    "define a function SORT_MIDDLE() that receives a list of tuples and return it sorted using the key middle\n",
    "display lists in sorted order"
   ]
  },
  {
   "cell_type": "code",
   "execution_count": 4,
   "metadata": {},
   "outputs": [
    {
     "name": "stdout",
     "output_type": "stream",
     "text": [
      "sorted list using key first\n",
      "[(1, 2, 3), (9, 5, 7), (16, 7, 5), (20, 8, 65), (35, 12, 9)]\n",
      "\n",
      "sorted list by using key middle\n",
      "[(1, 2, 3), (9, 5, 7), (16, 7, 5), (20, 8, 65), (35, 12, 9)]\n",
      "\n",
      "first element\n",
      "1\n",
      "9\n",
      "16\n",
      "20\n",
      "35\n",
      "\n",
      "middle element\n",
      "2\n",
      "5\n",
      "7\n",
      "8\n",
      "12\n"
     ]
    }
   ],
   "source": [
    "def first_sort(tlist):\n",
    "    print(\"sorted list using key first\")\n",
    "    tlist.sort()\n",
    "    print(tlist)\n",
    "def middle_sort(tlist):\n",
    "    print(\"\\nsorted list by using key middle\")\n",
    "    tlist=sorted(tlist,key=lambda mid:mid[1])\n",
    "    print(tlist)\n",
    "def first(tlist):\n",
    "    print(\"\\nfirst element\")\n",
    "    for j in tlist:\n",
    "        a,b,c=j\n",
    "        print(a)\n",
    "def middle(tlist):\n",
    "    print(\"\\nmiddle element\")\n",
    "    for j in tlist:\n",
    "        a,b,c=j\n",
    "        print(b)    \n",
    "    \n",
    "tlist=[(1,2,3),(9,5,7),(16,7,5),(35,12,9),(20,8,65)]\n",
    "first_sort(tlist)\n",
    "middle_sort(tlist)\n",
    "first(tlist)\n",
    "middle(tlist)"
   ]
  },
  {
   "cell_type": "code",
   "execution_count": null,
   "metadata": {},
   "outputs": [],
   "source": [
    "QUESTION7:\n",
    "Develop a function remove_adjacent(). Given a list of numbers, return a list \n",
    "where all adjacent same elements have been reduced to a single element. \n",
    "You may create a new list or modify the passed in list.\n",
    "    Test Cases:\n",
    "    1.Input:[1,2,2,3] and Output:[1,2,3]\n",
    "    2.Input:[2,2,3,3,3,] and Output:[2,3]\n",
    "    3.Input:[].Output:[].\n",
    "    4.Input:[2,5,5,6,6,7] and Output:[2,5,6,7]\n",
    "    5.Input:[6,7,7,8,9,9] and Output:[6,7,8,9]\n",
    "    "
   ]
  },
  {
   "cell_type": "code",
   "execution_count": 6,
   "metadata": {},
   "outputs": [],
   "source": [
    "def remove_adjacent(lst):\n",
    "    a = []\n",
    "    for item in lst:\n",
    "        if len(a):\n",
    "            if a[-1] != item:\n",
    "                a.append(item)\n",
    "        else:\n",
    "            a.append(item)\n",
    "    return a"
   ]
  },
  {
   "cell_type": "code",
   "execution_count": 7,
   "metadata": {},
   "outputs": [
    {
     "data": {
      "text/plain": [
       "[1, 2, 3]"
      ]
     },
     "execution_count": 7,
     "metadata": {},
     "output_type": "execute_result"
    }
   ],
   "source": [
    "remove_adjacent([1,2,2,3])"
   ]
  },
  {
   "cell_type": "code",
   "execution_count": 8,
   "metadata": {},
   "outputs": [
    {
     "data": {
      "text/plain": [
       "[2, 3]"
      ]
     },
     "execution_count": 8,
     "metadata": {},
     "output_type": "execute_result"
    }
   ],
   "source": [
    "remove_adjacent([2,2,3,3,3])"
   ]
  },
  {
   "cell_type": "code",
   "execution_count": 9,
   "metadata": {},
   "outputs": [
    {
     "data": {
      "text/plain": [
       "[2, 5, 6, 7]"
      ]
     },
     "execution_count": 9,
     "metadata": {},
     "output_type": "execute_result"
    }
   ],
   "source": [
    "remove_adjacent([2,5,5,6,6,7])"
   ]
  },
  {
   "cell_type": "code",
   "execution_count": 10,
   "metadata": {},
   "outputs": [
    {
     "data": {
      "text/plain": [
       "[6, 7, 8, 9]"
      ]
     },
     "execution_count": 10,
     "metadata": {},
     "output_type": "execute_result"
    }
   ],
   "source": [
    "remove_adjacent([6,7,7,8,9,9])"
   ]
  },
  {
   "cell_type": "code",
   "execution_count": 11,
   "metadata": {},
   "outputs": [
    {
     "data": {
      "text/plain": [
       "[]"
      ]
     },
     "execution_count": 11,
     "metadata": {},
     "output_type": "execute_result"
    }
   ],
   "source": [
    "remove_adjacent([])"
   ]
  },
  {
   "cell_type": "code",
   "execution_count": null,
   "metadata": {},
   "outputs": [],
   "source": [
    "QUESTION8:\n",
    "    Write a function verbing(). Given a string, if its length is at least 3, add'ing' to its end.\n",
    "    Unless it already ends in 'ing', in which case add 'ly' instead. If the string length is less than 3, \n",
    "    leave it unchanged. Return the resulting string. So 'hail' yields: hailing, 'swimming' yields: swimmingly; 'do' yields:do."
   ]
  },
  {
   "cell_type": "code",
   "execution_count": 13,
   "metadata": {},
   "outputs": [],
   "source": [
    "def verbing(str):\n",
    "    length = len(str)\n",
    "    if length > 2:\n",
    "        if str[-3:] == 'ing':\n",
    "            str += 'ly'\n",
    "        else:\n",
    "            str += 'ing'\n",
    "    return str"
   ]
  },
  {
   "cell_type": "code",
   "execution_count": 14,
   "metadata": {},
   "outputs": [
    {
     "data": {
      "text/plain": [
       "'hailing'"
      ]
     },
     "execution_count": 14,
     "metadata": {},
     "output_type": "execute_result"
    }
   ],
   "source": [
    "verbing(\"hail\")"
   ]
  },
  {
   "cell_type": "code",
   "execution_count": 15,
   "metadata": {},
   "outputs": [
    {
     "data": {
      "text/plain": [
       "'swimmingly'"
      ]
     },
     "execution_count": 15,
     "metadata": {},
     "output_type": "execute_result"
    }
   ],
   "source": [
    "verbing(\"swimming\")"
   ]
  },
  {
   "cell_type": "code",
   "execution_count": 16,
   "metadata": {},
   "outputs": [
    {
     "data": {
      "text/plain": [
       "'do'"
      ]
     },
     "execution_count": 16,
     "metadata": {},
     "output_type": "execute_result"
    }
   ],
   "source": [
    "verbing(\"do\")"
   ]
  },
  {
   "cell_type": "code",
   "execution_count": null,
   "metadata": {},
   "outputs": [],
   "source": [
    "QUESTION9:\n",
    "    Develop a function not_bad(). Given a string, find the first appearance of the substring 'not' and 'bad'.\n",
    "    If the 'bad' follows the 'not', replace the whole 'not'..'bad' substring with 'good'.\n",
    "    Return the resulting string. So 'This dinner is not that bad! 'Yields: This dinner is good!"
   ]
  },
  {
   "cell_type": "code",
   "execution_count": 18,
   "metadata": {},
   "outputs": [],
   "source": [
    "def not_bad(s):\n",
    "    snot = s.find('not')\n",
    "    sbad = s.find('bad')\n",
    "    if sbad>snot:\n",
    "        s=s.replace(s[snot:(sbad+3)], 'good')\n",
    "    return s"
   ]
  },
  {
   "cell_type": "code",
   "execution_count": 19,
   "metadata": {},
   "outputs": [
    {
     "data": {
      "text/plain": [
       "'This dinner is good!'"
      ]
     },
     "execution_count": 19,
     "metadata": {},
     "output_type": "execute_result"
    }
   ],
   "source": [
    "not_bad(\"This dinner is not really that bad!\")"
   ]
  }
 ],
 "metadata": {
  "kernelspec": {
   "display_name": "Python 3",
   "language": "python",
   "name": "python3"
  },
  "language_info": {
   "codemirror_mode": {
    "name": "ipython",
    "version": 3
   },
   "file_extension": ".py",
   "mimetype": "text/x-python",
   "name": "python",
   "nbconvert_exporter": "python",
   "pygments_lexer": "ipython3",
   "version": "3.8.5"
  }
 },
 "nbformat": 4,
 "nbformat_minor": 4
}
