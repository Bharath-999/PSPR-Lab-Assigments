{
 "cells": [
  {
   "cell_type": "markdown",
   "metadata": {},
   "source": [
    "#### Shabana S\n",
    "#### DS205229134"
   ]
  },
  {
   "cell_type": "markdown",
   "metadata": {},
   "source": [
    "Assignment:6\n",
    "Lab 4 Activity\n",
    "Question:1: Develop a function count_letter(string, search) that returns the number of times\n",
    "search character appears in a string.\n",
    "Test cases:\n",
    "1. Str = “hello world”. Search = ‘o’. Calling count_letter(str, search) should return output 2\n",
    "2. Str = “HeLlo wOrld”. Search = ‘o’. Then, calling count_letter(str, search) will return output 1\n",
    "Modify count_letter() so that it ignores case sensitivity, so that o and O are same.\n",
    "3. Str = “HeLlo wOrld”. Search = ‘o’. Calling count_letter(str, search) will return output 2\n",
    "    "
   ]
  },
  {
   "cell_type": "code",
   "execution_count": 17,
   "metadata": {},
   "outputs": [
    {
     "name": "stdout",
     "output_type": "stream",
     "text": [
      "enter the string:heLlo worLD\n",
      "enter the char to search:l\n",
      "The count of l is 3\n"
     ]
    }
   ],
   "source": [
    "def count_string(c,s):\n",
    "    return count\n",
    "c=str(input(\"enter the string:\"))\n",
    "s=str(input(\"enter the char to search:\"))\n",
    "count=0\n",
    "for i in c:\n",
    "    if i==s:\n",
    "        count+=1\n",
    "    elif i.lower()==s.lower():\n",
    "        count+=1\n",
    "print(\"The count of\",s,\"is\",count_string(c,s))\n",
    "    \n",
    "        "
   ]
  },
  {
   "cell_type": "markdown",
   "metadata": {},
   "source": [
    "Report: Define a function a count_string(c,s)and return count. declare variable c as enter the string and s as char to be search in that string.Initiallally count said to be zero using for loop i in c if is equal to s increase the count else if i.lower() is equal to s.lower() increase the count print that count using function call statement."
   ]
  },
  {
   "cell_type": "markdown",
   "metadata": {},
   "source": [
    "Question2. Write a program that counts the number of spaces, digits, vowels and consonants in\n",
    "a string that the user inputs. Print the string, no of spaces, no of digits, no of vowels and no of\n",
    "consonants.\n",
    "Test case: Enter a string: Bishop Heber College 17. Then output should be:\n",
    "Given string: Bishop Heber College 17\n",
    "No. of spaces: 3\n",
    "No. of digits: 2\n",
    "No. of vowels: 7\n",
    "No. of consonants: 12"
   ]
  },
  {
   "cell_type": "code",
   "execution_count": 18,
   "metadata": {},
   "outputs": [
    {
     "name": "stdout",
     "output_type": "stream",
     "text": [
      "enter the string:Bishop Heber College 17\n",
      "Vowels: 7\n",
      "Consonant: 11\n",
      "Digit: 2\n",
      "Space: 3\n"
     ]
    }
   ],
   "source": [
    "def count(str): \n",
    "    str=input(\"enter the string:\")\n",
    "    vowels = 0\n",
    "    consonant = 0\n",
    "    space = 0\n",
    "    digit = 0\n",
    "    for i in range(0, len(str)):  \n",
    "            c = str[i]  \n",
    "            if ( (c >= 'a' and c <= 'z') or \n",
    "             (c >= 'A' and c <= 'Z') ): \n",
    "                c = c.lower()  \n",
    "                if (c == 'a' or c == 'e' or c == 'i' \n",
    "                        or c == 'o' or c == 'u'): \n",
    "                    vowels += 1\n",
    "                else: \n",
    "                    consonant += 1\n",
    "            elif (c >= '0' and c <= '9'): \n",
    "                digit += 1\n",
    "            else: \n",
    "                space += 1\n",
    "    print(\"Vowels:\", vowels) \n",
    "    print(\"Consonant:\", consonant)  \n",
    "    print(\"Digit:\", digit)  \n",
    "    print(\"Space:\", space)  \n",
    "count(str)  "
   ]
  },
  {
   "cell_type": "markdown",
   "metadata": {},
   "source": [
    "Report: Define a function as count assign the inital value of vowel,consonants,digit,and space as zero.using for loop i range from o to length of string.Declare c as str[i] if all alphabets including captial letter c is equal to c.lower() check the string as vowels if it is count it or else count the consonants. else c has dights from 0 to 9 count the digits else count the space."
   ]
  },
  {
   "cell_type": "markdown",
   "metadata": {},
   "source": [
    "Question3. Develop a function remove_punctuation(str) that returns the string after removing\n",
    "the following punctuations.\n",
    "Punctuation List = \"!\\\"#$%&'()*+,-./:;<=>?@[\\]^`{|}~\"\n",
    "Test cases:\n",
    "1. Str = “Bishop’s College !.....”. Calling remove_punctuation(str) should return output as\n",
    "“Bishops College”\n",
    "2. Str = “#bhc trending @cs $placements::>.” Calling remove_punctuation(str) should return\n",
    "output as “bhc trending cs placements”"
   ]
  },
  {
   "cell_type": "code",
   "execution_count": 19,
   "metadata": {},
   "outputs": [
    {
     "name": "stdout",
     "output_type": "stream",
     "text": [
      "enter the string:\"bhc trending @cs $placements::>.\"\n",
      "\"bhc trending cs placements\"\n"
     ]
    }
   ],
   "source": [
    "def punctuation(): \n",
    "    lists=\"!\\$%&'()*+,-./::<=>?@{\\\\}^_'{|}~\"\n",
    "    string=input(\"enter the string:\")\n",
    "    punct=\"\"\n",
    "    for i in string:\n",
    "        if i not in lists:\n",
    "            punct=punct+i\n",
    "    print(punct)\n",
    "punctuation()\n",
    "    \n"
   ]
  },
  {
   "cell_type": "markdown",
   "metadata": {},
   "source": [
    "Report: Define a function as punctuation ,list the punctuation as list variable.Enter the string for i  in string, if i not in list punct=punct+i and print punct using function call statement."
   ]
  },
  {
   "cell_type": "code",
   "execution_count": null,
   "metadata": {},
   "outputs": [],
   "source": [
    "Question4. Write a program that asks the user for a word. Translate their word into Pig Latin. Pig\n",
    "Latin game takes the first consonant (or set of first consonants) of an English word, moves it to\n",
    "the end of the word and suffixes an ay. If the first letter is a vowel, do not move that vowel, but\n",
    "instead add “way” at the end of the word.\n",
    "Test Cases:\n",
    "1. Enter a word: pig\n",
    "Output: ig-pay\n",
    "2. Enter a word: banana\n",
    "Output: anana-bay\n",
    "3. Enter a word: trash\n",
    "Output: ash-tray\n",
    "4. Enter a word: apple\n",
    "Output: apple-way\n",
    "5. Enter a word: orange\n",
    "Output: orange-way\n",
    "\n",
    "Modify your program so that it becomes a function piglatin(word) and returns translated word\n",
    "as output. Call this function 3 times with the same inputs and validate the outputs."
   ]
  },
  {
   "cell_type": "code",
   "execution_count": 2,
   "metadata": {},
   "outputs": [],
   "source": [
    "def piglatin(word):\n",
    "    ay = 'ay'\n",
    "    way = 'way'\n",
    "    consonant = ('B','C','D','F','G','H','J','K','L','M','N','P','Q','R','S','T','Y','V','X','Z')\n",
    "    vowel = ('A','E','I','O','U')\n",
    "    user_word = input('enter a word to translate to pig latin:')\n",
    "    first_letter = user_word[0]\n",
    "    first_letter = str(first_letter)\n",
    "    first_letter = first_letter.upper()\n",
    "    if first_letter in consonant:\n",
    "        print(first_letter,'is a consonant')\n",
    "        length_of_word = len(user_word)\n",
    "        remove_first_letter = user_word[1:length_of_word]\n",
    "        pig_latin=remove_first_letter+first_letter+ay\n",
    "        print('the word in pig latin is:',pig_latin)\n",
    "    elif first_letter in vowel:\n",
    "        print(first_letter, 'is a vowel')\n",
    "        pig_latin=user_word+way\n",
    "        print('the word in pig latin is:',pig_latin)\n",
    "    else:\n",
    "        print('I dont know what',first_letter,'is')"
   ]
  },
  {
   "cell_type": "code",
   "execution_count": null,
   "metadata": {},
   "outputs": [],
   "source": [
    "Question 4:\n",
    "    Write a program that asks the user for a word. Translate their word into Pig Latin. \n",
    "    Pig Latin game takes the first consonant (or set of first consonants) of an English word, \n",
    "    moves it to the end of the word and suffixes an ay. If the first letter is a vowel, do not move that vowel,\n",
    "    but instead add \"way\" at the end of the word."
   ]
  },
  {
   "cell_type": "code",
   "execution_count": null,
   "metadata": {},
   "outputs": [],
   "source": [
    "word = input(\"Enter a word to translate to pig latin:\")\n",
    "def piglatin(word):\n",
    "    ay = 'ay'\n",
    "    way = 'way'\n",
    "    p = '-'\n",
    "    consonant = ('B','C','D','F','G','H','J','K','L','M','N','P','Q','R','S','T','Y','V','X','Z')\n",
    "    vowel = ('A','E','I','O','U')\n",
    "    first_letter = word[0]\n",
    "    first_letter = str(first_letter)\n",
    "    first_letter = first_letter.upper()\n",
    "    if first_letter in consonant:\n",
    "        print(first_letter,'is a consonant')\n",
    "        length_of_word = len(word)\n",
    "        remove_first_letter = word[1:length_of_word]\n",
    "        pig_latin = remove_first_letter+p+first_letter+ay\n",
    "        print('The word in Pig Latin is:',pig_latin)\n",
    "    elif first_letter in vowel:\n",
    "        print(first_letter,\"is a vowel\")\n",
    "        pig_latin = word+p+way\n",
    "        print('The word in Pig Latin is:',pig_latin)\n",
    "    else:\n",
    "        print('I dont know what',first_letter,'is')"
   ]
  },
  {
   "cell_type": "code",
   "execution_count": null,
   "metadata": {},
   "outputs": [],
   "source": [
    "piglatin(word)"
   ]
  }
 ],
 "metadata": {
  "kernelspec": {
   "display_name": "Python 3",
   "language": "python",
   "name": "python3"
  },
  "language_info": {
   "codemirror_mode": {
    "name": "ipython",
    "version": 3
   },
   "file_extension": ".py",
   "mimetype": "text/x-python",
   "name": "python",
   "nbconvert_exporter": "python",
   "pygments_lexer": "ipython3",
   "version": "3.8.5"
  }
 },
 "nbformat": 4,
 "nbformat_minor": 4
}
