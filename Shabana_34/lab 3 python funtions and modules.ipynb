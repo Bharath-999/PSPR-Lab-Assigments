{
 "cells": [
  {
   "cell_type": "markdown",
   "metadata": {},
   "source": [
    "#### Shabana S\n",
    "#### DS205229134"
   ]
  },
  {
   "cell_type": "markdown",
   "metadata": {},
   "source": [
    "LAB 3 \n",
    "question-1:Create a function prime() that receives an integer and returns whether n is prime or not. Print all prime numbers from 1 to 100 by calling prime() function."
   ]
  },
  {
   "cell_type": "code",
   "execution_count": 8,
   "metadata": {},
   "outputs": [
    {
     "name": "stdout",
     "output_type": "stream",
     "text": [
      "enter the number:7\n",
      "7 is a prime no\n",
      "7 is a prime no\n",
      "7 is a prime no\n",
      "7 is a prime no\n",
      "7 is a prime no\n",
      "None\n"
     ]
    }
   ],
   "source": [
    "no=int(input(\"enter the number:\"))\n",
    "def prime(no):\n",
    "    if no>1:\n",
    "        for i in range(2,no):\n",
    "            if(no%i==0):\n",
    "                print(no,\"is not a prime no\")\n",
    "                break\n",
    "            else:\n",
    "                print(no,\"is a prime no\")\n",
    "    else:\n",
    "        print(\"enter greater than one\")\n",
    "print(prime(no))"
   ]
  },
  {
   "cell_type": "markdown",
   "metadata": {},
   "source": [
    "Report:Input the number define a function as prime if no is greater than 1 using for loop in range 2,no. If no is divisible by i is equal to zero print given number is prime else not a prime number."
   ]
  },
  {
   "cell_type": "markdown",
   "metadata": {},
   "source": [
    "Question 2:Develop a simple arithemetic calculator for 4 operations. The program should continue calculation until user types'q' to quit.\n",
    "create 4 functions add(),subtract(),multiply(),divide() that recieves two values and returns the result of the operation"
   ]
  },
  {
   "cell_type": "code",
   "execution_count": 14,
   "metadata": {},
   "outputs": [
    {
     "name": "stdout",
     "output_type": "stream",
     "text": [
      "************\n",
      "OPERATOR\n",
      "***********\n",
      "1:addition\n",
      "2:subtraction\n",
      "3:multiplication\n",
      "4:division\n",
      "5:quit\n",
      "select the operator +,-,*,/,q:\n",
      "/\n",
      "enter the a:10\n",
      "enter the b:5\n",
      "2\n"
     ]
    }
   ],
   "source": [
    "\n",
    "def add(a,b):\n",
    "     return(a+b)\n",
    "def sub(a,b):\n",
    "    return(a-b)\n",
    "def mul(a,b):\n",
    "    return(a*b)\n",
    "def divide(a,b):\n",
    "    return(a//b)\n",
    "print(\"************\")\n",
    "print(\"OPERATOR\")\n",
    "print(\"***********\")\n",
    "print(\"1:addition\")\n",
    "print(\"2:subtraction\")\n",
    "print(\"3:multiplication\")\n",
    "print(\"4:division\")\n",
    "print(\"5:quit\")\n",
    "while True:\n",
    "    choice=input(\"select the operator +,-,*,/,q:\\n\")\n",
    "    if choice in ('+','-','*','/','q'):\n",
    "        a=int(input(\"enter the a:\"))\n",
    "        b=int(input(\"enter the b:\"))\n",
    "        if choice=='+':\n",
    "            print(add(a,b))\n",
    "        elif choice=='-':\n",
    "            print(sub(a,b))\n",
    "        elif choice=='*':\n",
    "            print(mul(a,b))\n",
    "        elif choice=='/':\n",
    "            print(divide(a,b))\n",
    "        elif choice=='q':\n",
    "            print(\"done\")\n",
    "        break\n",
    "    else:\n",
    "        print(\"invalid no\")\n",
    "        \n",
    "            \n",
    "        \n",
    "        "
   ]
  },
  {
   "cell_type": "markdown",
   "metadata": {},
   "source": [
    "Report: define a function add(),sub(),mul(),divide() using while looop decalre variable as choice 1,2,3,4,5 input the number a and b if choice is equal to given number then it will call the function and return the value."
   ]
  },
  {
   "cell_type": "code",
   "execution_count": null,
   "metadata": {},
   "outputs": [],
   "source": [
    "create a function factorial() that takes an integer and returns its factorial value.\n",
    "you can create as a non-recursive version of factorial\n",
    "also, check factorial of negative number does not exist\n",
    "factorial of 0 is 1\n",
    "save this python file as factorial_definition.py"
   ]
  },
  {
   "cell_type": "code",
   "execution_count": 4,
   "metadata": {},
   "outputs": [
    {
     "name": "stdout",
     "output_type": "stream",
     "text": [
      "factorial of 5 is 120\n"
     ]
    }
   ],
   "source": [
    "def factorial(n):\n",
    "    \n",
    "    if n == 0:\n",
    "        return 1\n",
    "    \n",
    "    return n * factorial(n-1)\n",
    "\n",
    "num = 5;\n",
    "print(\"factorial of\", num, \"is\", factorial(num))\n",
    "    "
   ]
  }
 ],
 "metadata": {
  "kernelspec": {
   "display_name": "Python 3",
   "language": "python",
   "name": "python3"
  },
  "language_info": {
   "codemirror_mode": {
    "name": "ipython",
    "version": 3
   },
   "file_extension": ".py",
   "mimetype": "text/x-python",
   "name": "python",
   "nbconvert_exporter": "python",
   "pygments_lexer": "ipython3",
   "version": "3.8.5"
  }
 },
 "nbformat": 4,
 "nbformat_minor": 4
}
